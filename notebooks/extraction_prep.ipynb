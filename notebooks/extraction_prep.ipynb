#import the packages
import pandas as pd


# define the columns and the separater
sep = '\s+'

columns = ['ProteinID', 'target_accession', 'query_name', 'query_accession', 'full_sequence_evalue', 'full_sequence_score', 'full_sequence_bias', 'domain_e_evalue', 'domain_score', 'domain_bias', 'domain#est_exp', 'domain#est_reg', 'domain#est_clu', 'domain#est_ov', 'domain#est_env', 'domain#est_dom', 'domain#est_rep', 'domain#est_inc', 'description_of_target']

# read the in the sequential hits output csv as into a data frame
# change NAMEOFQUERY to actual query name
sequential_hits= pd.read_csv('clean_NAMEOFQUERY_sequential_hits.csv', sep='\s+', skiprows=3, skipfooter=10, header=None, names=columns, index_col=False, engine='python')
sequential_hits

# save the new csv (make sure protein names are in the first column for downstream processing)
# change NAMEOFQUERY to actual query name
df.to_csv('clean_NAMEOFQUERY_sequential_hits.csv', index=False)
